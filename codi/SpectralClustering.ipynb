{
 "cells": [
  {
   "cell_type": "markdown",
   "metadata": {},
   "source": [
    "## Lectura fitxer"
   ]
  },
  {
   "cell_type": "code",
   "execution_count": 1,
   "metadata": {},
   "outputs": [],
   "source": [
    "import pandas as pd\n",
    "\n",
    "df = pd.read_csv(\"datasets/Data Carrard.csv\")\n",
    "df = df.drop('id', axis = 1)"
   ]
  },
  {
   "cell_type": "code",
   "execution_count": 2,
   "metadata": {},
   "outputs": [],
   "source": [
    "df['target'] = df['stai_t'] + df['cesd']\n",
    "df = df.drop(['stai_t', 'cesd'], axis=1)"
   ]
  },
  {
   "cell_type": "code",
   "execution_count": 3,
   "metadata": {},
   "outputs": [],
   "source": [
    "X = df.drop('target', axis=1)\n",
    "y = df['target']"
   ]
  },
  {
   "cell_type": "markdown",
   "metadata": {},
   "source": [
    "## Aplicació model"
   ]
  },
  {
   "cell_type": "markdown",
   "metadata": {},
   "source": [
    "### Utilització de totes les característiques"
   ]
  },
  {
   "cell_type": "code",
   "execution_count": 4,
   "metadata": {},
   "outputs": [],
   "source": [
    "from sklearn.cluster import SpectralClustering\n",
    "import matplotlib.pyplot as plt\n",
    "import seaborn as sns\n",
    "import numpy as np"
   ]
  },
  {
   "cell_type": "code",
   "execution_count": 8,
   "metadata": {},
   "outputs": [
    {
     "name": "stderr",
     "output_type": "stream",
     "text": [
      "c:\\Users\\LAURA\\AppData\\Local\\Programs\\Python\\Python39\\lib\\site-packages\\sklearn\\manifold\\_spectral_embedding.py:273: UserWarning: Graph is not fully connected, spectral embedding may not work as expected.\n",
      "  warnings.warn(\n"
     ]
    }
   ],
   "source": [
    "n_clusters = 2  # Ajustar el número deseado de clusters\n",
    "model_sc = SpectralClustering(n_clusters=n_clusters)\n",
    "clusters = model_sc.fit_predict(X)"
   ]
  },
  {
   "cell_type": "code",
   "execution_count": 9,
   "metadata": {},
   "outputs": [
    {
     "data": {
      "text/html": [
       "<div>\n",
       "<style scoped>\n",
       "    .dataframe tbody tr th:only-of-type {\n",
       "        vertical-align: middle;\n",
       "    }\n",
       "\n",
       "    .dataframe tbody tr th {\n",
       "        vertical-align: top;\n",
       "    }\n",
       "\n",
       "    .dataframe thead th {\n",
       "        text-align: right;\n",
       "    }\n",
       "</style>\n",
       "<table border=\"1\" class=\"dataframe\">\n",
       "  <thead>\n",
       "    <tr style=\"text-align: right;\">\n",
       "      <th></th>\n",
       "      <th>age</th>\n",
       "      <th>year</th>\n",
       "      <th>sex</th>\n",
       "      <th>glang</th>\n",
       "      <th>part</th>\n",
       "      <th>job</th>\n",
       "      <th>stud_h</th>\n",
       "      <th>health</th>\n",
       "      <th>psyt</th>\n",
       "      <th>jspe</th>\n",
       "      <th>qcae_cog</th>\n",
       "      <th>qcae_aff</th>\n",
       "      <th>amsp</th>\n",
       "      <th>erec_mean</th>\n",
       "      <th>mbi_ex</th>\n",
       "      <th>mbi_cy</th>\n",
       "      <th>mbi_ea</th>\n",
       "      <th>cluster</th>\n",
       "    </tr>\n",
       "  </thead>\n",
       "  <tbody>\n",
       "    <tr>\n",
       "      <th>0</th>\n",
       "      <td>18</td>\n",
       "      <td>1</td>\n",
       "      <td>1</td>\n",
       "      <td>120</td>\n",
       "      <td>1</td>\n",
       "      <td>0</td>\n",
       "      <td>56</td>\n",
       "      <td>3</td>\n",
       "      <td>0</td>\n",
       "      <td>88</td>\n",
       "      <td>62</td>\n",
       "      <td>27</td>\n",
       "      <td>17</td>\n",
       "      <td>0.738095</td>\n",
       "      <td>17</td>\n",
       "      <td>13</td>\n",
       "      <td>20</td>\n",
       "      <td>0</td>\n",
       "    </tr>\n",
       "    <tr>\n",
       "      <th>1</th>\n",
       "      <td>26</td>\n",
       "      <td>4</td>\n",
       "      <td>1</td>\n",
       "      <td>1</td>\n",
       "      <td>1</td>\n",
       "      <td>0</td>\n",
       "      <td>20</td>\n",
       "      <td>4</td>\n",
       "      <td>0</td>\n",
       "      <td>109</td>\n",
       "      <td>55</td>\n",
       "      <td>37</td>\n",
       "      <td>22</td>\n",
       "      <td>0.690476</td>\n",
       "      <td>14</td>\n",
       "      <td>11</td>\n",
       "      <td>26</td>\n",
       "      <td>0</td>\n",
       "    </tr>\n",
       "    <tr>\n",
       "      <th>2</th>\n",
       "      <td>21</td>\n",
       "      <td>3</td>\n",
       "      <td>2</td>\n",
       "      <td>1</td>\n",
       "      <td>0</td>\n",
       "      <td>0</td>\n",
       "      <td>36</td>\n",
       "      <td>3</td>\n",
       "      <td>0</td>\n",
       "      <td>106</td>\n",
       "      <td>64</td>\n",
       "      <td>39</td>\n",
       "      <td>17</td>\n",
       "      <td>0.690476</td>\n",
       "      <td>24</td>\n",
       "      <td>7</td>\n",
       "      <td>23</td>\n",
       "      <td>0</td>\n",
       "    </tr>\n",
       "    <tr>\n",
       "      <th>3</th>\n",
       "      <td>21</td>\n",
       "      <td>2</td>\n",
       "      <td>2</td>\n",
       "      <td>1</td>\n",
       "      <td>0</td>\n",
       "      <td>1</td>\n",
       "      <td>51</td>\n",
       "      <td>5</td>\n",
       "      <td>0</td>\n",
       "      <td>101</td>\n",
       "      <td>52</td>\n",
       "      <td>33</td>\n",
       "      <td>18</td>\n",
       "      <td>0.833333</td>\n",
       "      <td>16</td>\n",
       "      <td>10</td>\n",
       "      <td>21</td>\n",
       "      <td>0</td>\n",
       "    </tr>\n",
       "    <tr>\n",
       "      <th>4</th>\n",
       "      <td>21</td>\n",
       "      <td>3</td>\n",
       "      <td>1</td>\n",
       "      <td>1</td>\n",
       "      <td>1</td>\n",
       "      <td>0</td>\n",
       "      <td>22</td>\n",
       "      <td>4</td>\n",
       "      <td>0</td>\n",
       "      <td>102</td>\n",
       "      <td>58</td>\n",
       "      <td>28</td>\n",
       "      <td>21</td>\n",
       "      <td>0.690476</td>\n",
       "      <td>22</td>\n",
       "      <td>14</td>\n",
       "      <td>23</td>\n",
       "      <td>0</td>\n",
       "    </tr>\n",
       "  </tbody>\n",
       "</table>\n",
       "</div>"
      ],
      "text/plain": [
       "   age  year  sex  glang  part  job  stud_h  health  psyt  jspe  qcae_cog  \\\n",
       "0   18     1    1    120     1    0      56       3     0    88        62   \n",
       "1   26     4    1      1     1    0      20       4     0   109        55   \n",
       "2   21     3    2      1     0    0      36       3     0   106        64   \n",
       "3   21     2    2      1     0    1      51       5     0   101        52   \n",
       "4   21     3    1      1     1    0      22       4     0   102        58   \n",
       "\n",
       "   qcae_aff  amsp  erec_mean  mbi_ex  mbi_cy  mbi_ea  cluster  \n",
       "0        27    17   0.738095      17      13      20        0  \n",
       "1        37    22   0.690476      14      11      26        0  \n",
       "2        39    17   0.690476      24       7      23        0  \n",
       "3        33    18   0.833333      16      10      21        0  \n",
       "4        28    21   0.690476      22      14      23        0  "
      ]
     },
     "execution_count": 9,
     "metadata": {},
     "output_type": "execute_result"
    }
   ],
   "source": [
    "df_clustered = X.copy() \n",
    "df_clustered['cluster'] = clusters \n",
    "df_clustered.head(5) "
   ]
  },
  {
   "cell_type": "code",
   "execution_count": 10,
   "metadata": {},
   "outputs": [
    {
     "data": {
      "image/png": "[encoded data removed]",
      "text/plain": [
       "<Figure size 640x480 with 1 Axes>"
      ]
     },
     "metadata": {},
     "output_type": "display_data"
    }
   ],
   "source": [
    "# Plot dels punts amb diferents colors segons el cluster al qual pertanyen\n",
    "for i in range(n_clusters):\n",
    "    cluster_points = df_clustered[df_clustered['cluster'] == i]\n",
    "    plt.scatter(cluster_points.iloc[:, 14], cluster_points.iloc[:, 16], label=f'Cluster {i}')\n",
    "\n",
    "plt.title('Clusters generats amb Gaussian Mixture')\n",
    "plt.xlabel('mbi_ex')\n",
    "plt.ylabel('mbi_ea')\n",
    "plt.legend()\n",
    "plt.show()"
   ]
  },
  {
   "cell_type": "code",
   "execution_count": 11,
   "metadata": {},
   "outputs": [
    {
     "name": "stdout",
     "output_type": "stream",
     "text": [
      "               age      year       sex      glang      part       job  \\\n",
      "cluster                                                                 \n",
      "0        22.388701  3.105085  1.694915  14.241808  0.563842  0.349153   \n",
      "1        18.000000  1.000000  2.000000  90.000000  0.000000  0.000000   \n",
      "\n",
      "            stud_h    health      psyt       jspe   qcae_cog  qcae_aff  \\\n",
      "cluster                                                                  \n",
      "0        25.277966  3.777401  0.224859  106.40339  58.550282  34.79661   \n",
      "1        35.000000  4.000000  0.000000   81.00000  37.000000  24.00000   \n",
      "\n",
      "              amsp  erec_mean     mbi_ex     mbi_cy    mbi_ea  \n",
      "cluster                                                        \n",
      "0        23.157062   0.719935  16.871186  10.082486  24.20452  \n",
      "1        17.000000   0.904762  23.000000   7.000000  27.00000  \n"
     ]
    }
   ],
   "source": [
    "# Grouping the data frame by cluster to get the properties of each cluster\n",
    "cluster_grouped = df_clustered.groupby('cluster')\n",
    "cluster_properties = cluster_grouped.mean()\n",
    "\n",
    "# Printing the properties of each cluster (mean values of the variables)\n",
    "print(cluster_properties)"
   ]
  },
  {
   "cell_type": "code",
   "execution_count": 12,
   "metadata": {},
   "outputs": [
    {
     "data": {
      "text/plain": [
       "cluster\n",
       "0    885\n",
       "1      1\n",
       "dtype: int64"
      ]
     },
     "execution_count": 12,
     "metadata": {},
     "output_type": "execute_result"
    }
   ],
   "source": [
    "# Getting the number of patients in each cluster\n",
    "cluster_grouped.size()"
   ]
  },
  {
   "cell_type": "code",
   "execution_count": 13,
   "metadata": {},
   "outputs": [
    {
     "data": {
      "image/png": "[encoded data removed]",
      "text/plain": [
       "<Figure size 1500x1000 with 1 Axes>"
      ]
     },
     "metadata": {},
     "output_type": "display_data"
    }
   ],
   "source": [
    "cluster_properties.plot(kind='bar', figsize=(15, 10))\n",
    "plt.show()"
   ]
  },
  {
   "cell_type": "markdown",
   "metadata": {},
   "source": [
    "Com podem observar als resultats dels valors mitjans i de la gràfica, no podem concloure cap conclusió clara. Veiem que la columna que més varia d'una gràfica a una altra és la que pertany a la variable glang. Aquesta variable indica la llengua dels estudiants cosa que no considerem significativa."
   ]
  },
  {
   "cell_type": "markdown",
   "metadata": {},
   "source": [
    "## Avaluació Model"
   ]
  },
  {
   "cell_type": "markdown",
   "metadata": {},
   "source": [
    "Definim un threshold per determinar a partir de quin punt considerem que la persona en qüestió pateix una enfermetat mental (ansietat o depressió). Tenint en compte que la nostra y=cesd+stai_t, és a dir la suma de escala de depressió i ansietat. Linterval d'aquestes dues és el següent:\n",
    "\n",
    "* cesd: 0 - 56\n",
    "* stai_t: 20 - 77"
   ]
  },
  {
   "cell_type": "code",
   "execution_count": 14,
   "metadata": {},
   "outputs": [
    {
     "data": {
      "text/plain": [
       "79.8"
      ]
     },
     "execution_count": 14,
     "metadata": {},
     "output_type": "execute_result"
    }
   ],
   "source": [
    "threshold = (56+77)*0.6\n",
    "threshold"
   ]
  },
  {
   "cell_type": "code",
   "execution_count": 15,
   "metadata": {},
   "outputs": [
    {
     "data": {
      "text/html": [
       "<div>\n",
       "<style scoped>\n",
       "    .dataframe tbody tr th:only-of-type {\n",
       "        vertical-align: middle;\n",
       "    }\n",
       "\n",
       "    .dataframe tbody tr th {\n",
       "        vertical-align: top;\n",
       "    }\n",
       "\n",
       "    .dataframe thead th {\n",
       "        text-align: right;\n",
       "    }\n",
       "</style>\n",
       "<table border=\"1\" class=\"dataframe\">\n",
       "  <thead>\n",
       "    <tr style=\"text-align: right;\">\n",
       "      <th></th>\n",
       "      <th>age</th>\n",
       "      <th>year</th>\n",
       "      <th>sex</th>\n",
       "      <th>glang</th>\n",
       "      <th>part</th>\n",
       "      <th>job</th>\n",
       "      <th>stud_h</th>\n",
       "      <th>health</th>\n",
       "      <th>psyt</th>\n",
       "      <th>jspe</th>\n",
       "      <th>qcae_cog</th>\n",
       "      <th>qcae_aff</th>\n",
       "      <th>amsp</th>\n",
       "      <th>erec_mean</th>\n",
       "      <th>mbi_ex</th>\n",
       "      <th>mbi_cy</th>\n",
       "      <th>mbi_ea</th>\n",
       "      <th>cluster</th>\n",
       "      <th>target</th>\n",
       "    </tr>\n",
       "  </thead>\n",
       "  <tbody>\n",
       "    <tr>\n",
       "      <th>0</th>\n",
       "      <td>18</td>\n",
       "      <td>1</td>\n",
       "      <td>1</td>\n",
       "      <td>120</td>\n",
       "      <td>1</td>\n",
       "      <td>0</td>\n",
       "      <td>56</td>\n",
       "      <td>3</td>\n",
       "      <td>0</td>\n",
       "      <td>88</td>\n",
       "      <td>62</td>\n",
       "      <td>27</td>\n",
       "      <td>17</td>\n",
       "      <td>0.738095</td>\n",
       "      <td>17</td>\n",
       "      <td>13</td>\n",
       "      <td>20</td>\n",
       "      <td>0</td>\n",
       "      <td>95</td>\n",
       "    </tr>\n",
       "    <tr>\n",
       "      <th>1</th>\n",
       "      <td>26</td>\n",
       "      <td>4</td>\n",
       "      <td>1</td>\n",
       "      <td>1</td>\n",
       "      <td>1</td>\n",
       "      <td>0</td>\n",
       "      <td>20</td>\n",
       "      <td>4</td>\n",
       "      <td>0</td>\n",
       "      <td>109</td>\n",
       "      <td>55</td>\n",
       "      <td>37</td>\n",
       "      <td>22</td>\n",
       "      <td>0.690476</td>\n",
       "      <td>14</td>\n",
       "      <td>11</td>\n",
       "      <td>26</td>\n",
       "      <td>0</td>\n",
       "      <td>40</td>\n",
       "    </tr>\n",
       "    <tr>\n",
       "      <th>2</th>\n",
       "      <td>21</td>\n",
       "      <td>3</td>\n",
       "      <td>2</td>\n",
       "      <td>1</td>\n",
       "      <td>0</td>\n",
       "      <td>0</td>\n",
       "      <td>36</td>\n",
       "      <td>3</td>\n",
       "      <td>0</td>\n",
       "      <td>106</td>\n",
       "      <td>64</td>\n",
       "      <td>39</td>\n",
       "      <td>17</td>\n",
       "      <td>0.690476</td>\n",
       "      <td>24</td>\n",
       "      <td>7</td>\n",
       "      <td>23</td>\n",
       "      <td>0</td>\n",
       "      <td>98</td>\n",
       "    </tr>\n",
       "    <tr>\n",
       "      <th>3</th>\n",
       "      <td>21</td>\n",
       "      <td>2</td>\n",
       "      <td>2</td>\n",
       "      <td>1</td>\n",
       "      <td>0</td>\n",
       "      <td>1</td>\n",
       "      <td>51</td>\n",
       "      <td>5</td>\n",
       "      <td>0</td>\n",
       "      <td>101</td>\n",
       "      <td>52</td>\n",
       "      <td>33</td>\n",
       "      <td>18</td>\n",
       "      <td>0.833333</td>\n",
       "      <td>16</td>\n",
       "      <td>10</td>\n",
       "      <td>21</td>\n",
       "      <td>0</td>\n",
       "      <td>65</td>\n",
       "    </tr>\n",
       "    <tr>\n",
       "      <th>4</th>\n",
       "      <td>21</td>\n",
       "      <td>3</td>\n",
       "      <td>1</td>\n",
       "      <td>1</td>\n",
       "      <td>1</td>\n",
       "      <td>0</td>\n",
       "      <td>22</td>\n",
       "      <td>4</td>\n",
       "      <td>0</td>\n",
       "      <td>102</td>\n",
       "      <td>58</td>\n",
       "      <td>28</td>\n",
       "      <td>21</td>\n",
       "      <td>0.690476</td>\n",
       "      <td>22</td>\n",
       "      <td>14</td>\n",
       "      <td>23</td>\n",
       "      <td>0</td>\n",
       "      <td>60</td>\n",
       "    </tr>\n",
       "    <tr>\n",
       "      <th>...</th>\n",
       "      <td>...</td>\n",
       "      <td>...</td>\n",
       "      <td>...</td>\n",
       "      <td>...</td>\n",
       "      <td>...</td>\n",
       "      <td>...</td>\n",
       "      <td>...</td>\n",
       "      <td>...</td>\n",
       "      <td>...</td>\n",
       "      <td>...</td>\n",
       "      <td>...</td>\n",
       "      <td>...</td>\n",
       "      <td>...</td>\n",
       "      <td>...</td>\n",
       "      <td>...</td>\n",
       "      <td>...</td>\n",
       "      <td>...</td>\n",
       "      <td>...</td>\n",
       "      <td>...</td>\n",
       "    </tr>\n",
       "    <tr>\n",
       "      <th>881</th>\n",
       "      <td>21</td>\n",
       "      <td>2</td>\n",
       "      <td>1</td>\n",
       "      <td>1</td>\n",
       "      <td>1</td>\n",
       "      <td>0</td>\n",
       "      <td>45</td>\n",
       "      <td>3</td>\n",
       "      <td>0</td>\n",
       "      <td>106</td>\n",
       "      <td>63</td>\n",
       "      <td>39</td>\n",
       "      <td>28</td>\n",
       "      <td>0.619048</td>\n",
       "      <td>23</td>\n",
       "      <td>4</td>\n",
       "      <td>34</td>\n",
       "      <td>0</td>\n",
       "      <td>80</td>\n",
       "    </tr>\n",
       "    <tr>\n",
       "      <th>882</th>\n",
       "      <td>20</td>\n",
       "      <td>2</td>\n",
       "      <td>2</td>\n",
       "      <td>1</td>\n",
       "      <td>0</td>\n",
       "      <td>0</td>\n",
       "      <td>13</td>\n",
       "      <td>3</td>\n",
       "      <td>0</td>\n",
       "      <td>113</td>\n",
       "      <td>67</td>\n",
       "      <td>40</td>\n",
       "      <td>21</td>\n",
       "      <td>0.809524</td>\n",
       "      <td>17</td>\n",
       "      <td>5</td>\n",
       "      <td>24</td>\n",
       "      <td>0</td>\n",
       "      <td>67</td>\n",
       "    </tr>\n",
       "    <tr>\n",
       "      <th>883</th>\n",
       "      <td>19</td>\n",
       "      <td>1</td>\n",
       "      <td>1</td>\n",
       "      <td>1</td>\n",
       "      <td>0</td>\n",
       "      <td>0</td>\n",
       "      <td>50</td>\n",
       "      <td>5</td>\n",
       "      <td>0</td>\n",
       "      <td>100</td>\n",
       "      <td>50</td>\n",
       "      <td>31</td>\n",
       "      <td>24</td>\n",
       "      <td>0.547619</td>\n",
       "      <td>15</td>\n",
       "      <td>8</td>\n",
       "      <td>31</td>\n",
       "      <td>0</td>\n",
       "      <td>59</td>\n",
       "    </tr>\n",
       "    <tr>\n",
       "      <th>884</th>\n",
       "      <td>24</td>\n",
       "      <td>5</td>\n",
       "      <td>2</td>\n",
       "      <td>1</td>\n",
       "      <td>0</td>\n",
       "      <td>0</td>\n",
       "      <td>20</td>\n",
       "      <td>2</td>\n",
       "      <td>1</td>\n",
       "      <td>120</td>\n",
       "      <td>64</td>\n",
       "      <td>39</td>\n",
       "      <td>21</td>\n",
       "      <td>0.785714</td>\n",
       "      <td>22</td>\n",
       "      <td>15</td>\n",
       "      <td>19</td>\n",
       "      <td>0</td>\n",
       "      <td>91</td>\n",
       "    </tr>\n",
       "    <tr>\n",
       "      <th>885</th>\n",
       "      <td>22</td>\n",
       "      <td>3</td>\n",
       "      <td>1</td>\n",
       "      <td>1</td>\n",
       "      <td>0</td>\n",
       "      <td>1</td>\n",
       "      <td>20</td>\n",
       "      <td>5</td>\n",
       "      <td>0</td>\n",
       "      <td>102</td>\n",
       "      <td>54</td>\n",
       "      <td>26</td>\n",
       "      <td>25</td>\n",
       "      <td>0.571429</td>\n",
       "      <td>11</td>\n",
       "      <td>9</td>\n",
       "      <td>30</td>\n",
       "      <td>0</td>\n",
       "      <td>32</td>\n",
       "    </tr>\n",
       "  </tbody>\n",
       "</table>\n",
       "<p>886 rows × 19 columns</p>\n",
       "</div>"
      ],
      "text/plain": [
       "     age  year  sex  glang  part  job  stud_h  health  psyt  jspe  qcae_cog  \\\n",
       "0     18     1    1    120     1    0      56       3     0    88        62   \n",
       "1     26     4    1      1     1    0      20       4     0   109        55   \n",
       "2     21     3    2      1     0    0      36       3     0   106        64   \n",
       "3     21     2    2      1     0    1      51       5     0   101        52   \n",
       "4     21     3    1      1     1    0      22       4     0   102        58   \n",
       "..   ...   ...  ...    ...   ...  ...     ...     ...   ...   ...       ...   \n",
       "881   21     2    1      1     1    0      45       3     0   106        63   \n",
       "882   20     2    2      1     0    0      13       3     0   113        67   \n",
       "883   19     1    1      1     0    0      50       5     0   100        50   \n",
       "884   24     5    2      1     0    0      20       2     1   120        64   \n",
       "885   22     3    1      1     0    1      20       5     0   102        54   \n",
       "\n",
       "     qcae_aff  amsp  erec_mean  mbi_ex  mbi_cy  mbi_ea  cluster  target  \n",
       "0          27    17   0.738095      17      13      20        0      95  \n",
       "1          37    22   0.690476      14      11      26        0      40  \n",
       "2          39    17   0.690476      24       7      23        0      98  \n",
       "3          33    18   0.833333      16      10      21        0      65  \n",
       "4          28    21   0.690476      22      14      23        0      60  \n",
       "..        ...   ...        ...     ...     ...     ...      ...     ...  \n",
       "881        39    28   0.619048      23       4      34        0      80  \n",
       "882        40    21   0.809524      17       5      24        0      67  \n",
       "883        31    24   0.547619      15       8      31        0      59  \n",
       "884        39    21   0.785714      22      15      19        0      91  \n",
       "885        26    25   0.571429      11       9      30        0      32  \n",
       "\n",
       "[886 rows x 19 columns]"
      ]
     },
     "execution_count": 15,
     "metadata": {},
     "output_type": "execute_result"
    }
   ],
   "source": [
    "#Fem Dataset per avaluar el model \n",
    "df_aval = df_clustered.copy() \n",
    "df_aval['target'] = y\n",
    "df_aval"
   ]
  },
  {
   "cell_type": "code",
   "execution_count": 16,
   "metadata": {},
   "outputs": [
    {
     "name": "stdout",
     "output_type": "stream",
     "text": [
      "cluster\n",
      "0    178\n",
      "1      1\n",
      "dtype: int64\n"
     ]
    }
   ],
   "source": [
    "# Filtrem les files amb 'target' superior a threshold\n",
    "df_target_gt_threshold = df_aval[df_aval['target'] > threshold]\n",
    "\n",
    "# Fem el recompte agrupant per 'cluster'\n",
    "count_by_cluster = df_target_gt_threshold.groupby('cluster').size()\n",
    "\n",
    "# Mostrem el resultat\n",
    "print(count_by_cluster)"
   ]
  },
  {
   "cell_type": "code",
   "execution_count": 17,
   "metadata": {},
   "outputs": [
    {
     "data": {
      "text/plain": [
       "cluster\n",
       "0    885\n",
       "1      1\n",
       "dtype: int64"
      ]
     },
     "execution_count": 17,
     "metadata": {},
     "output_type": "execute_result"
    }
   ],
   "source": [
    "total_cluster = cluster_grouped.size()\n",
    "total_cluster"
   ]
  },
  {
   "cell_type": "code",
   "execution_count": 19,
   "metadata": {},
   "outputs": [
    {
     "data": {
      "image/png": "[encoded data removed]",
      "text/plain": [
       "<Figure size 640x480 with 1 Axes>"
      ]
     },
     "metadata": {},
     "output_type": "display_data"
    },
    {
     "data": {
      "image/png": "[encoded data removed]",
      "text/plain": [
       "<Figure size 640x480 with 1 Axes>"
      ]
     },
     "metadata": {},
     "output_type": "display_data"
    }
   ],
   "source": [
    "labels = 'Amb ansietat/deprssió', 'Bé'\n",
    "dades = []\n",
    "for c in range(n_clusters):\n",
    "    resta = total_cluster[c] - count_by_cluster[c]\n",
    "    dades.append([count_by_cluster[c], resta])\n",
    "\n",
    "for d in dades:\n",
    "    fig, ax = plt.subplots()\n",
    "    ax.pie(d, labels=labels, autopct='%1.1f%%')\n",
    "    plt.show()"
   ]
  }
 ],
 "metadata": {
  "kernelspec": {
   "display_name": "Python 3",
   "language": "python",
   "name": "python3"
  },
  "language_info": {
   "codemirror_mode": {
    "name": "ipython",
    "version": 3
   },
   "file_extension": ".py",
   "mimetype": "text/x-python",
   "name": "python",
   "nbconvert_exporter": "python",
   "pygments_lexer": "ipython3",
   "version": "3.9.0"
  }
 },
 "nbformat": 4,
 "nbformat_minor": 2
}
