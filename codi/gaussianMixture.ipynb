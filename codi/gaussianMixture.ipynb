{
 "cells": [
  {
   "cell_type": "markdown",
   "metadata": {},
   "source": [
    "# Estudi Gaussian Mixture"
   ]
  },
  {
   "cell_type": "markdown",
   "metadata": {},
   "source": [
    "## Lectura fitxer students"
   ]
  },
  {
   "cell_type": "code",
   "execution_count": null,
   "metadata": {},
   "outputs": [],
   "source": [
    "import pandas as pd"
   ]
  },
  {
   "cell_type": "code",
   "execution_count": null,
   "metadata": {},
   "outputs": [],
   "source": [
    "df_students = pd.read_csv(\"C:/Users/MLi/Documents/UAB/AC/Projecte/ACproject-07/datasets/Data Carrard.csv\")\n",
    "df_students = df_students.drop('id', axis = 1)"
   ]
  },
  {
   "cell_type": "code",
   "execution_count": null,
   "metadata": {},
   "outputs": [],
   "source": [
    "df_categorical = df_students[['sex', 'year', 'glang', 'part', 'job', 'stud_h', 'health', 'psyt']]\n",
    "df_numerical = df_students[['age', 'jspe', 'qcae_cog', 'qcae_aff', 'amsp', 'erec_mean', 'cesd', 'stai_t', 'mbi_ex', 'mbi_cy', 'mbi_ea']]"
   ]
  },
  {
   "cell_type": "code",
   "execution_count": null,
   "metadata": {},
   "outputs": [],
   "source": [
    "def sampleig_dataset(dataset, frac):\n",
    "    dataset = dataset.sample(frac=frac).reset_index(drop=True)\n",
    "    return dataset"
   ]
  },
  {
   "cell_type": "code",
   "execution_count": null,
   "metadata": {},
   "outputs": [],
   "source": [
    "frac_train = 0.7\n",
    "frac_test = 0.3\n",
    "\n",
    "X_train = sampleig_dataset(df_students, frac_train)\n",
    "X_test = sampleig_dataset(df_students, frac_test)"
   ]
  },
  {
   "cell_type": "markdown",
   "metadata": {},
   "source": [
    "## Aplicació model"
   ]
  },
  {
   "cell_type": "code",
   "execution_count": null,
   "metadata": {},
   "outputs": [],
   "source": [
    "from sklearn.mixture import GaussianMixture\n",
    "import matplotlib.pyplot as plt\n",
    "import seaborn as sns\n",
    "import numpy as np"
   ]
  },
  {
   "cell_type": "code",
   "execution_count": null,
   "metadata": {},
   "outputs": [],
   "source": [
    "n_grups = 3\n",
    "model_gm = GaussianMixture(n_components=n_grups)"
   ]
  },
  {
   "cell_type": "code",
   "execution_count": null,
   "metadata": {},
   "outputs": [],
   "source": [
    "def generacio_clusters(model, X, prob=False):\n",
    "    model.fit(X)\n",
    "\n",
    "    # prediccio del model sobre tots els pixels de la imatge (omplir variable labels)\n",
    "    if not prob:\n",
    "        labels = model.predict(X)\n",
    "    else: # predicció probabilística de GaussianMixture\n",
    "        labels = model.predict_proba(X)\n",
    "    \n",
    "    # agafar els clusters segons si es k-means o gmm (estan en atributs diferents)\n",
    "    # if isinstance(model, KMeans):\n",
    "    #     clusters = model.cluster_centers_\n",
    "    # else: # GaussianMixture\n",
    "    clusters = model.means_\n",
    "        \n",
    "    return clusters, labels"
   ]
  },
  {
   "cell_type": "code",
   "execution_count": null,
   "metadata": {},
   "outputs": [],
   "source": [
    "clusters_gm, labels_gm = generacio_clusters(model_gm, X_train)\n",
    "\n"
   ]
  },
  {
   "cell_type": "code",
   "execution_count": null,
   "metadata": {},
   "outputs": [],
   "source": [
    "sns.scatterplot(x=clusters[:, 0], y=clusters[:, 1], hue=labels,\n",
    "                    legend=False, alpha=0.5,\n",
    "                    palette=sns.color_palette('magma', n_colors=len(np.unique(labels))))\n",
    "plt.title(\"Clusters\")"
   ]
  },
  {
   "cell_type": "markdown",
   "metadata": {},
   "source": [
    "## Avaluació model"
   ]
  },
  {
   "cell_type": "code",
   "execution_count": null,
   "metadata": {},
   "outputs": [],
   "source": [
    "from yellowbrick.cluster import KElbowVisualizer\n",
    "from yellowbrick.cluster import SilhouetteVisualizer"
   ]
  },
  {
   "cell_type": "markdown",
   "metadata": {},
   "source": [
    "### Elbow Visualizer"
   ]
  },
  {
   "cell_type": "code",
   "execution_count": null,
   "metadata": {},
   "outputs": [],
   "source": [
    "plt.figure(figsize=(20,20))\n",
    "visualizer = KElbowVisualizer(model_gm, k=n_grups)\n",
    "visualizer.fit(X_train)   "
   ]
  },
  {
   "cell_type": "markdown",
   "metadata": {},
   "source": [
    "### Silouhette Visualizer"
   ]
  },
  {
   "cell_type": "code",
   "execution_count": null,
   "metadata": {},
   "outputs": [],
   "source": [
    "plt.figure(figsize=(20,20))\n",
    "results = []\n",
    "i=0\n",
    "k_tries = range(2, 10)\n",
    "for k in k_tries:\n",
    "    i+=1\n",
    "    plt.subplot(len(k_tries),1, i)\n",
    "    model = GaussianMixture(n_clusters=k, n_init='auto')\n",
    "    visualizer = SilhouetteVisualizer(model, colors='yellowbrick')\n",
    "\n",
    "    # X, y = get_data('circles')\n",
    "    visualizer.fit(X)        # Fit the data to the visualizer\n",
    "    results.append((k, model.inertia_, visualizer.silhouette_score_))\n",
    "    print(results[-1])\n"
   ]
  }
 ],
 "metadata": {
  "kernelspec": {
   "display_name": "base",
   "language": "python",
   "name": "python3"
  },
  "language_info": {
   "name": "python",
   "version": "3.9.15"
  }
 },
 "nbformat": 4,
 "nbformat_minor": 2
}
