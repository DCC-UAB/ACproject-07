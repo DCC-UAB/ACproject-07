{
 "cells": [
  {
   "cell_type": "markdown",
   "metadata": {},
   "source": [
    "# Estudi Spectral Clustering amb Modificacions"
   ]
  },
  {
   "cell_type": "markdown",
   "metadata": {},
   "source": [
    "## Utilització GridSearch"
   ]
  },
  {
   "cell_type": "code",
   "execution_count": 1,
   "metadata": {},
   "outputs": [],
   "source": [
    "import pandas as pd"
   ]
  },
  {
   "cell_type": "code",
   "execution_count": 2,
   "metadata": {},
   "outputs": [],
   "source": [
    "#Llegim fitxer\n",
    "\n",
    "df_students = pd.read_csv(\"datasets/Data Carrard.csv\")\n",
    "df_students = df_students.drop('id', axis = 1)\n",
    "\n",
    "df_categorical = df_students[['sex', 'year', 'glang', 'part', 'job', 'stud_h', 'health', 'psyt']]\n",
    "df_numerical = df_students[['age', 'jspe', 'qcae_cog', 'qcae_aff', 'amsp', 'erec_mean', 'cesd', 'stai_t', 'mbi_ex', 'mbi_cy', 'mbi_ea']]"
   ]
  },
  {
   "cell_type": "code",
   "execution_count": 9,
   "metadata": {},
   "outputs": [],
   "source": [
    "def sampleig_dataset(dataset, frac):\n",
    "    dataset = dataset.sample(frac=frac).reset_index(drop=True)\n",
    "    return dataset"
   ]
  },
  {
   "cell_type": "code",
   "execution_count": 10,
   "metadata": {},
   "outputs": [],
   "source": [
    "frac_train = 0.7\n",
    "frac_test = 0.3\n",
    "\n",
    "X_train = sampleig_dataset(df_students, frac_train)\n",
    "X_test = sampleig_dataset(df_students, frac_test)"
   ]
  },
  {
   "cell_type": "code",
   "execution_count": 3,
   "metadata": {},
   "outputs": [],
   "source": [
    "from sklearn.preprocessing import StandardScaler\n",
    "from sklearn.decomposition import PCA\n",
    "\n",
    "scaler = StandardScaler()\n",
    "df_num_scaled = scaler.fit_transform(df_numerical)\n",
    "\n",
    "# Create a PCA instance: pca\n",
    "pca = PCA(n_components=0.95)\n",
    "\n",
    "# Fit the PCA instance to the scaled samples\n",
    "pca.fit(df_num_scaled)\n",
    "\n",
    "# Transform the scaled samples: pca_features\n",
    "pca_features = pca.transform(df_num_scaled)"
   ]
  },
  {
   "cell_type": "markdown",
   "metadata": {},
   "source": [
    "## Busquem millor model"
   ]
  },
  {
   "cell_type": "code",
   "execution_count": 4,
   "metadata": {},
   "outputs": [],
   "source": [
    "from sklearn.cluster import SpectralClustering\n",
    "import matplotlib.pyplot as plt\n",
    "import seaborn as sns\n",
    "import numpy as np"
   ]
  },
  {
   "cell_type": "code",
   "execution_count": 11,
   "metadata": {},
   "outputs": [
    {
     "name": "stderr",
     "output_type": "stream",
     "text": [
      "c:\\Users\\LAURA\\AppData\\Local\\Programs\\Python\\Python39\\lib\\site-packages\\sklearn\\model_selection\\_search.py:979: UserWarning: One or more of the test scores are non-finite: [nan nan nan nan nan nan nan nan nan nan nan nan nan nan nan nan nan nan\n",
      " nan nan nan nan nan nan]\n",
      "  warnings.warn(\n",
      "c:\\Users\\LAURA\\AppData\\Local\\Programs\\Python\\Python39\\lib\\site-packages\\sklearn\\cluster\\_spectral.py:688: UserWarning: The spectral clustering API has changed. ``fit``now constructs an affinity matrix from data. To use a custom affinity matrix, set ``affinity=precomputed``.\n",
      "  warnings.warn(\n"
     ]
    },
    {
     "name": "stdout",
     "output_type": "stream",
     "text": [
      "Mejores Parámetros: {'affinity': 'nearest_neighbors', 'n_clusters': 2}\n"
     ]
    }
   ],
   "source": [
    "from sklearn.metrics import make_scorer\n",
    "from sklearn.cluster import SpectralClustering\n",
    "from sklearn.model_selection import GridSearchCV\n",
    "from sklearn.metrics import silhouette_score\n",
    "\n",
    "from sklearn.metrics.pairwise import rbf_kernel\n",
    "\n",
    "# Precomputar la matriz de afinidad para X_train\n",
    "affinity_matrix_train = rbf_kernel(X_train)\n",
    "\n",
    "# Especificar el espacio de búsqueda de parámetros\n",
    "param_grid = {\n",
    "    \"n_clusters\": range(2, 8),\n",
    "    \"affinity\": ['nearest_neighbors', 'rbf', 'nearest_neighbors', 'precomputed'],\n",
    "}\n",
    "\n",
    "# Crear una instancia de SpectralClustering\n",
    "spectral_model = SpectralClustering()\n",
    "\n",
    "# Crear una instancia de GridSearchCV\n",
    "silhouette_scorer = make_scorer(silhouette_score)\n",
    "grid_search = GridSearchCV(\n",
    "    estimator=spectral_model,\n",
    "    param_grid=param_grid,\n",
    "    cv=5,\n",
    "    n_jobs=-1,\n",
    "    scoring=silhouette_scorer\n",
    ")\n",
    "\n",
    "# Ajustar el modelo al conjunto de entrenamiento y la matriz de afinidad\n",
    "grid_search.fit(affinity_matrix_train)\n",
    "\n",
    "# Obtener los mejores parámetros y el mejor modelo\n",
    "best_params = grid_search.best_params_\n",
    "best_model = grid_search.best_estimator_\n",
    "\n",
    "# Imprimir los mejores parámetros\n",
    "print(\"Mejores Parámetros:\", best_params)\n",
    "\n",
    "\n",
    "\n"
   ]
  },
  {
   "cell_type": "code",
   "execution_count": null,
   "metadata": {},
   "outputs": [],
   "source": []
  }
 ],
 "metadata": {
  "kernelspec": {
   "display_name": "Python 3",
   "language": "python",
   "name": "python3"
  },
  "language_info": {
   "codemirror_mode": {
    "name": "ipython",
    "version": 3
   },
   "file_extension": ".py",
   "mimetype": "text/x-python",
   "name": "python",
   "nbconvert_exporter": "python",
   "pygments_lexer": "ipython3",
   "version": "3.9.0"
  }
 },
 "nbformat": 4,
 "nbformat_minor": 2
}
